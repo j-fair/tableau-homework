{
 "cells": [
  {
   "cell_type": "markdown",
   "metadata": {},
   "source": [
    "# Tableau Homework Analysis"
   ]
  },
  {
   "cell_type": "markdown",
   "metadata": {},
   "source": [
    "Public URL: https://public.tableau.com/profile/jerren.fair#!/?newProfile=&activeTab=0"
   ]
  },
  {
   "cell_type": "markdown",
   "metadata": {},
   "source": [
    "After analyzing the NYC Citi Bike idea, some trends emerged:\n",
    "\n",
    "    1. Bike 16808 has logged almost 8x as many hours as the next most used bike. This is an extreme outlier.\n",
    "    2. The average trip duration of a subscriber is roughly half of what a normal customer is.\n",
    "    3. Interestingly enough, in July data analyzed, they had inverse number of users. As customer usage peaked, subscriber usage fell.\n",
    "    4. Males make up 60% of the market.\n",
    "    5. Ages 36-39 ride the most miles.\n",
    "    6. Not much difference between start/end point stations."
   ]
  }
 ],
 "metadata": {
  "kernelspec": {
   "display_name": "Python 3",
   "language": "python",
   "name": "python3"
  },
  "language_info": {
   "codemirror_mode": {
    "name": "ipython",
    "version": 3
   },
   "file_extension": ".py",
   "mimetype": "text/x-python",
   "name": "python",
   "nbconvert_exporter": "python",
   "pygments_lexer": "ipython3",
   "version": "3.8.5"
  }
 },
 "nbformat": 4,
 "nbformat_minor": 4
}
